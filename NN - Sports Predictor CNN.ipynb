{
 "cells": [
  {
   "cell_type": "markdown",
   "id": "a6f12207",
   "metadata": {},
   "source": [
    "# MODULES"
   ]
  },
  {
   "cell_type": "code",
   "execution_count": 43,
   "id": "c5e439b8",
   "metadata": {},
   "outputs": [],
   "source": [
    "import tensorflow as tf\n",
    "import os\n",
    "import keras\n",
    "from tensorflow.keras.layers import Conv2D, Flatten, Dense\n",
    "from tensorflow.keras.preprocessing.image import ImageDataGenerator\n",
    "\n",
    "import matplotlib.pyplot as plt \n",
    "import numpy as np\n",
    "import cv2"
   ]
  },
  {
   "cell_type": "markdown",
   "id": "5448d40c",
   "metadata": {},
   "source": [
    "### DIRECTORIES"
   ]
  },
  {
   "cell_type": "code",
   "execution_count": 44,
   "id": "dbef46ae",
   "metadata": {},
   "outputs": [],
   "source": [
    "os.chdir('C:/sports_nn')"
   ]
  },
  {
   "cell_type": "code",
   "execution_count": 45,
   "id": "0adfd839",
   "metadata": {},
   "outputs": [],
   "source": [
    "train_path = 'train'\n",
    "valid_path = 'valid'\n",
    "test_path = 'test'\n",
    "\n",
    "path = r\"C:/sports_nn/train\"\n",
    "class_names = os.listdir(path)\n",
    "class_names.sort()"
   ]
  },
  {
   "cell_type": "code",
   "execution_count": 46,
   "id": "dce604a9",
   "metadata": {},
   "outputs": [],
   "source": [
    "# function to show 1 batch (10 images)\n",
    "# def plotImages(images_arr) :\n",
    "#     fig, axes = plt.subplots(2,5,figsize= (20,20))\n",
    "#     axes = axes.flatten()\n",
    "#     for img, ax in zip(images_arr, axes):\n",
    "#         ax.imshow(img)\n",
    "#         ax.axis('off')\n",
    "#     plt.tight_layout()\n",
    "#     plt.show()"
   ]
  },
  {
   "cell_type": "markdown",
   "id": "1a257431",
   "metadata": {},
   "source": [
    "# CREATING BATCHES"
   ]
  },
  {
   "cell_type": "code",
   "execution_count": 47,
   "id": "9be436bb",
   "metadata": {},
   "outputs": [
    {
     "name": "stdout",
     "output_type": "stream",
     "text": [
      "Found 500 images belonging to 100 classes.\n"
     ]
    }
   ],
   "source": [
    "test_batches = ImageDataGenerator(preprocessing_function=tf.keras.applications.mobilenet.preprocess_input).flow_from_directory(\n",
    "    directory=test_path, target_size=(224,224),classes=class_names,batch_size=10, shuffle=False)"
   ]
  },
  {
   "cell_type": "markdown",
   "id": "d8ac4eab",
   "metadata": {},
   "source": [
    "# MODEL LOADING"
   ]
  },
  {
   "cell_type": "code",
   "execution_count": 48,
   "id": "f2523f5e",
   "metadata": {},
   "outputs": [],
   "source": [
    "model = keras.models.load_model(\"sports_pred_100_10e_high_lr.h5\")"
   ]
  },
  {
   "cell_type": "code",
   "execution_count": 49,
   "id": "3a0ca289",
   "metadata": {},
   "outputs": [
    {
     "name": "stdout",
     "output_type": "stream",
     "text": [
      "Model: \"model_1\"\n",
      "_________________________________________________________________\n",
      " Layer (type)                Output Shape              Param #   \n",
      "=================================================================\n",
      " input_3 (InputLayer)        [(None, 224, 224, 3)]     0         \n",
      "                                                                 \n",
      " conv1 (Conv2D)              (None, 112, 112, 32)      864       \n",
      "                                                                 \n",
      " conv1_bn (BatchNormalizatio  (None, 112, 112, 32)     128       \n",
      " n)                                                              \n",
      "                                                                 \n",
      " conv1_relu (ReLU)           (None, 112, 112, 32)      0         \n",
      "                                                                 \n",
      " conv_dw_1 (DepthwiseConv2D)  (None, 112, 112, 32)     288       \n",
      "                                                                 \n",
      " conv_dw_1_bn (BatchNormaliz  (None, 112, 112, 32)     128       \n",
      " ation)                                                          \n",
      "                                                                 \n",
      " conv_dw_1_relu (ReLU)       (None, 112, 112, 32)      0         \n",
      "                                                                 \n",
      " conv_pw_1 (Conv2D)          (None, 112, 112, 64)      2048      \n",
      "                                                                 \n",
      " conv_pw_1_bn (BatchNormaliz  (None, 112, 112, 64)     256       \n",
      " ation)                                                          \n",
      "                                                                 \n",
      " conv_pw_1_relu (ReLU)       (None, 112, 112, 64)      0         \n",
      "                                                                 \n",
      " conv_pad_2 (ZeroPadding2D)  (None, 113, 113, 64)      0         \n",
      "                                                                 \n",
      " conv_dw_2 (DepthwiseConv2D)  (None, 56, 56, 64)       576       \n",
      "                                                                 \n",
      " conv_dw_2_bn (BatchNormaliz  (None, 56, 56, 64)       256       \n",
      " ation)                                                          \n",
      "                                                                 \n",
      " conv_dw_2_relu (ReLU)       (None, 56, 56, 64)        0         \n",
      "                                                                 \n",
      " conv_pw_2 (Conv2D)          (None, 56, 56, 128)       8192      \n",
      "                                                                 \n",
      " conv_pw_2_bn (BatchNormaliz  (None, 56, 56, 128)      512       \n",
      " ation)                                                          \n",
      "                                                                 \n",
      " conv_pw_2_relu (ReLU)       (None, 56, 56, 128)       0         \n",
      "                                                                 \n",
      " conv_dw_3 (DepthwiseConv2D)  (None, 56, 56, 128)      1152      \n",
      "                                                                 \n",
      " conv_dw_3_bn (BatchNormaliz  (None, 56, 56, 128)      512       \n",
      " ation)                                                          \n",
      "                                                                 \n",
      " conv_dw_3_relu (ReLU)       (None, 56, 56, 128)       0         \n",
      "                                                                 \n",
      " conv_pw_3 (Conv2D)          (None, 56, 56, 128)       16384     \n",
      "                                                                 \n",
      " conv_pw_3_bn (BatchNormaliz  (None, 56, 56, 128)      512       \n",
      " ation)                                                          \n",
      "                                                                 \n",
      " conv_pw_3_relu (ReLU)       (None, 56, 56, 128)       0         \n",
      "                                                                 \n",
      " conv_pad_4 (ZeroPadding2D)  (None, 57, 57, 128)       0         \n",
      "                                                                 \n",
      " conv_dw_4 (DepthwiseConv2D)  (None, 28, 28, 128)      1152      \n",
      "                                                                 \n",
      " conv_dw_4_bn (BatchNormaliz  (None, 28, 28, 128)      512       \n",
      " ation)                                                          \n",
      "                                                                 \n",
      " conv_dw_4_relu (ReLU)       (None, 28, 28, 128)       0         \n",
      "                                                                 \n",
      " conv_pw_4 (Conv2D)          (None, 28, 28, 256)       32768     \n",
      "                                                                 \n",
      " conv_pw_4_bn (BatchNormaliz  (None, 28, 28, 256)      1024      \n",
      " ation)                                                          \n",
      "                                                                 \n",
      " conv_pw_4_relu (ReLU)       (None, 28, 28, 256)       0         \n",
      "                                                                 \n",
      " conv_dw_5 (DepthwiseConv2D)  (None, 28, 28, 256)      2304      \n",
      "                                                                 \n",
      " conv_dw_5_bn (BatchNormaliz  (None, 28, 28, 256)      1024      \n",
      " ation)                                                          \n",
      "                                                                 \n",
      " conv_dw_5_relu (ReLU)       (None, 28, 28, 256)       0         \n",
      "                                                                 \n",
      " conv_pw_5 (Conv2D)          (None, 28, 28, 256)       65536     \n",
      "                                                                 \n",
      " conv_pw_5_bn (BatchNormaliz  (None, 28, 28, 256)      1024      \n",
      " ation)                                                          \n",
      "                                                                 \n",
      " conv_pw_5_relu (ReLU)       (None, 28, 28, 256)       0         \n",
      "                                                                 \n",
      " conv_pad_6 (ZeroPadding2D)  (None, 29, 29, 256)       0         \n",
      "                                                                 \n",
      " conv_dw_6 (DepthwiseConv2D)  (None, 14, 14, 256)      2304      \n",
      "                                                                 \n",
      " conv_dw_6_bn (BatchNormaliz  (None, 14, 14, 256)      1024      \n",
      " ation)                                                          \n",
      "                                                                 \n",
      " conv_dw_6_relu (ReLU)       (None, 14, 14, 256)       0         \n",
      "                                                                 \n",
      " conv_pw_6 (Conv2D)          (None, 14, 14, 512)       131072    \n",
      "                                                                 \n",
      " conv_pw_6_bn (BatchNormaliz  (None, 14, 14, 512)      2048      \n",
      " ation)                                                          \n",
      "                                                                 \n",
      " conv_pw_6_relu (ReLU)       (None, 14, 14, 512)       0         \n",
      "                                                                 \n",
      " conv_dw_7 (DepthwiseConv2D)  (None, 14, 14, 512)      4608      \n",
      "                                                                 \n",
      " conv_dw_7_bn (BatchNormaliz  (None, 14, 14, 512)      2048      \n",
      " ation)                                                          \n",
      "                                                                 \n",
      " conv_dw_7_relu (ReLU)       (None, 14, 14, 512)       0         \n",
      "                                                                 \n",
      " conv_pw_7 (Conv2D)          (None, 14, 14, 512)       262144    \n",
      "                                                                 \n",
      " conv_pw_7_bn (BatchNormaliz  (None, 14, 14, 512)      2048      \n",
      " ation)                                                          \n",
      "                                                                 \n",
      " conv_pw_7_relu (ReLU)       (None, 14, 14, 512)       0         \n",
      "                                                                 \n",
      " conv_dw_8 (DepthwiseConv2D)  (None, 14, 14, 512)      4608      \n",
      "                                                                 \n",
      " conv_dw_8_bn (BatchNormaliz  (None, 14, 14, 512)      2048      \n",
      " ation)                                                          \n",
      "                                                                 \n",
      " conv_dw_8_relu (ReLU)       (None, 14, 14, 512)       0         \n",
      "                                                                 \n",
      " conv_pw_8 (Conv2D)          (None, 14, 14, 512)       262144    \n"
     ]
    },
    {
     "name": "stdout",
     "output_type": "stream",
     "text": [
      "                                                                 \n",
      " conv_pw_8_bn (BatchNormaliz  (None, 14, 14, 512)      2048      \n",
      " ation)                                                          \n",
      "                                                                 \n",
      " conv_pw_8_relu (ReLU)       (None, 14, 14, 512)       0         \n",
      "                                                                 \n",
      " conv_dw_9 (DepthwiseConv2D)  (None, 14, 14, 512)      4608      \n",
      "                                                                 \n",
      " conv_dw_9_bn (BatchNormaliz  (None, 14, 14, 512)      2048      \n",
      " ation)                                                          \n",
      "                                                                 \n",
      " conv_dw_9_relu (ReLU)       (None, 14, 14, 512)       0         \n",
      "                                                                 \n",
      " conv_pw_9 (Conv2D)          (None, 14, 14, 512)       262144    \n",
      "                                                                 \n",
      " conv_pw_9_bn (BatchNormaliz  (None, 14, 14, 512)      2048      \n",
      " ation)                                                          \n",
      "                                                                 \n",
      " conv_pw_9_relu (ReLU)       (None, 14, 14, 512)       0         \n",
      "                                                                 \n",
      " conv_dw_10 (DepthwiseConv2D  (None, 14, 14, 512)      4608      \n",
      " )                                                               \n",
      "                                                                 \n",
      " conv_dw_10_bn (BatchNormali  (None, 14, 14, 512)      2048      \n",
      " zation)                                                         \n",
      "                                                                 \n",
      " conv_dw_10_relu (ReLU)      (None, 14, 14, 512)       0         \n",
      "                                                                 \n",
      " conv_pw_10 (Conv2D)         (None, 14, 14, 512)       262144    \n",
      "                                                                 \n",
      " conv_pw_10_bn (BatchNormali  (None, 14, 14, 512)      2048      \n",
      " zation)                                                         \n",
      "                                                                 \n",
      " conv_pw_10_relu (ReLU)      (None, 14, 14, 512)       0         \n",
      "                                                                 \n",
      " conv_dw_11 (DepthwiseConv2D  (None, 14, 14, 512)      4608      \n",
      " )                                                               \n",
      "                                                                 \n",
      " conv_dw_11_bn (BatchNormali  (None, 14, 14, 512)      2048      \n",
      " zation)                                                         \n",
      "                                                                 \n",
      " conv_dw_11_relu (ReLU)      (None, 14, 14, 512)       0         \n",
      "                                                                 \n",
      " conv_pw_11 (Conv2D)         (None, 14, 14, 512)       262144    \n",
      "                                                                 \n",
      " conv_pw_11_bn (BatchNormali  (None, 14, 14, 512)      2048      \n",
      " zation)                                                         \n",
      "                                                                 \n",
      " conv_pw_11_relu (ReLU)      (None, 14, 14, 512)       0         \n",
      "                                                                 \n",
      " conv_pad_12 (ZeroPadding2D)  (None, 15, 15, 512)      0         \n",
      "                                                                 \n",
      " conv_dw_12 (DepthwiseConv2D  (None, 7, 7, 512)        4608      \n",
      " )                                                               \n",
      "                                                                 \n",
      " conv_dw_12_bn (BatchNormali  (None, 7, 7, 512)        2048      \n",
      " zation)                                                         \n",
      "                                                                 \n",
      " conv_dw_12_relu (ReLU)      (None, 7, 7, 512)         0         \n",
      "                                                                 \n",
      " conv_pw_12 (Conv2D)         (None, 7, 7, 1024)        524288    \n",
      "                                                                 \n",
      " conv_pw_12_bn (BatchNormali  (None, 7, 7, 1024)       4096      \n",
      " zation)                                                         \n",
      "                                                                 \n",
      " conv_pw_12_relu (ReLU)      (None, 7, 7, 1024)        0         \n",
      "                                                                 \n",
      " conv_dw_13 (DepthwiseConv2D  (None, 7, 7, 1024)       9216      \n",
      " )                                                               \n",
      "                                                                 \n",
      " conv_dw_13_bn (BatchNormali  (None, 7, 7, 1024)       4096      \n",
      " zation)                                                         \n",
      "                                                                 \n",
      " conv_dw_13_relu (ReLU)      (None, 7, 7, 1024)        0         \n",
      "                                                                 \n",
      " conv_pw_13 (Conv2D)         (None, 7, 7, 1024)        1048576   \n",
      "                                                                 \n",
      " conv_pw_13_bn (BatchNormali  (None, 7, 7, 1024)       4096      \n",
      " zation)                                                         \n",
      "                                                                 \n",
      " conv_pw_13_relu (ReLU)      (None, 7, 7, 1024)        0         \n",
      "                                                                 \n",
      " flatten_1 (Flatten)         (None, 50176)             0         \n",
      "                                                                 \n",
      " dense_1 (Dense)             (None, 100)               5017700   \n",
      "                                                                 \n",
      "=================================================================\n",
      "Total params: 8,246,564\n",
      "Trainable params: 6,881,380\n",
      "Non-trainable params: 1,365,184\n",
      "_________________________________________________________________\n"
     ]
    }
   ],
   "source": [
    "model.summary()"
   ]
  },
  {
   "cell_type": "code",
   "execution_count": 50,
   "id": "058a94be",
   "metadata": {},
   "outputs": [],
   "source": [
    "test_lables = test_batches.classes"
   ]
  },
  {
   "cell_type": "code",
   "execution_count": 51,
   "id": "fb94f2ef",
   "metadata": {},
   "outputs": [
    {
     "data": {
      "text/plain": [
       "array([ 0,  0,  0,  0,  0,  1,  1,  1,  1,  1,  2,  2,  2,  2,  2,  3,  3,\n",
       "        3,  3,  3,  4,  4,  4,  4,  4,  5,  5,  5,  5,  5,  6,  6,  6,  6,\n",
       "        6,  7,  7,  7,  7,  7,  8,  8,  8,  8,  8,  9,  9,  9,  9,  9, 10,\n",
       "       10, 10, 10, 10, 11, 11, 11, 11, 11, 12, 12, 12, 12, 12, 13, 13, 13,\n",
       "       13, 13, 14, 14, 14, 14, 14, 15, 15, 15, 15, 15, 16, 16, 16, 16, 16,\n",
       "       17, 17, 17, 17, 17, 18, 18, 18, 18, 18, 19, 19, 19, 19, 19, 20, 20,\n",
       "       20, 20, 20, 21, 21, 21, 21, 21, 22, 22, 22, 22, 22, 23, 23, 23, 23,\n",
       "       23, 24, 24, 24, 24, 24, 25, 25, 25, 25, 25, 26, 26, 26, 26, 26, 27,\n",
       "       27, 27, 27, 27, 28, 28, 28, 28, 28, 29, 29, 29, 29, 29, 30, 30, 30,\n",
       "       30, 30, 31, 31, 31, 31, 31, 32, 32, 32, 32, 32, 33, 33, 33, 33, 33,\n",
       "       34, 34, 34, 34, 34, 35, 35, 35, 35, 35, 36, 36, 36, 36, 36, 37, 37,\n",
       "       37, 37, 37, 38, 38, 38, 38, 38, 39, 39, 39, 39, 39, 40, 40, 40, 40,\n",
       "       40, 41, 41, 41, 41, 41, 42, 42, 42, 42, 42, 43, 43, 43, 43, 43, 44,\n",
       "       44, 44, 44, 44, 45, 45, 45, 45, 45, 46, 46, 46, 46, 46, 47, 47, 47,\n",
       "       47, 47, 48, 48, 48, 48, 48, 49, 49, 49, 49, 49, 50, 50, 50, 50, 50,\n",
       "       51, 51, 51, 51, 51, 52, 52, 52, 52, 52, 53, 53, 53, 53, 53, 54, 54,\n",
       "       54, 54, 54, 55, 55, 55, 55, 55, 56, 56, 56, 56, 56, 57, 57, 57, 57,\n",
       "       57, 58, 58, 58, 58, 58, 59, 59, 59, 59, 59, 60, 60, 60, 60, 60, 61,\n",
       "       61, 61, 61, 61, 62, 62, 62, 62, 62, 63, 63, 63, 63, 63, 64, 64, 64,\n",
       "       64, 64, 65, 65, 65, 65, 65, 66, 66, 66, 66, 66, 67, 67, 67, 67, 67,\n",
       "       68, 68, 68, 68, 68, 69, 69, 69, 69, 69, 70, 70, 70, 70, 70, 71, 71,\n",
       "       71, 71, 71, 72, 72, 72, 72, 72, 73, 73, 73, 73, 73, 74, 74, 74, 74,\n",
       "       74, 75, 75, 75, 75, 75, 76, 76, 76, 76, 76, 77, 77, 77, 77, 77, 78,\n",
       "       78, 78, 78, 78, 79, 79, 79, 79, 79, 80, 80, 80, 80, 80, 81, 81, 81,\n",
       "       81, 81, 82, 82, 82, 82, 82, 83, 83, 83, 83, 83, 84, 84, 84, 84, 84,\n",
       "       85, 85, 85, 85, 85, 86, 86, 86, 86, 86, 87, 87, 87, 87, 87, 88, 88,\n",
       "       88, 88, 88, 89, 89, 89, 89, 89, 90, 90, 90, 90, 90, 91, 91, 91, 91,\n",
       "       91, 92, 92, 92, 92, 92, 93, 93, 93, 93, 93, 94, 94, 94, 94, 94, 95,\n",
       "       95, 95, 95, 95, 96, 96, 96, 96, 96, 97, 97, 97, 97, 97, 98, 98, 98,\n",
       "       98, 98, 99, 99, 99, 99, 99])"
      ]
     },
     "execution_count": 51,
     "metadata": {},
     "output_type": "execute_result"
    }
   ],
   "source": [
    "test_lables"
   ]
  },
  {
   "cell_type": "code",
   "execution_count": 52,
   "id": "393d1566",
   "metadata": {},
   "outputs": [
    {
     "name": "stdout",
     "output_type": "stream",
     "text": [
      "50/50 [==============================] - 24s 466ms/step\n"
     ]
    }
   ],
   "source": [
    "predictions = model.predict(x=test_batches , verbose=1)"
   ]
  },
  {
   "cell_type": "code",
   "execution_count": 33,
   "id": "c4c829c1",
   "metadata": {},
   "outputs": [],
   "source": [
    "test_no=1"
   ]
  },
  {
   "cell_type": "code",
   "execution_count": 11,
   "id": "0860e217",
   "metadata": {},
   "outputs": [
    {
     "name": "stdout",
     "output_type": "stream",
     "text": [
      "Predicted Class -  ampute football\n",
      "Original Class -  ampute football\n"
     ]
    }
   ],
   "source": [
    "# n=2 for outside testing\n",
    "n=9\n",
    "\n",
    "class_index = np.argmax(predictions[n])\n",
    "class_predicted = class_names[class_index] \n",
    "\n",
    "class_original = class_names[ test_lables[n] ]\n",
    "print('Predicted Class - ', class_predicted)\n",
    "print('Original Class - ',class_original)\n",
    "\n",
    "imgs, lables = next(test_batches) \n",
    "img = imgs[n]\n",
    "\n",
    "\n",
    "img = cv2.cvtColor(img, cv2.COLOR_RGB2BGR)\n",
    "img = cv2.resize(img,(450,400))\n",
    "img = cv2.putText(img,class_predicted,(5,55),cv2.FONT_HERSHEY_SIMPLEX,1,(255,255,255),2,cv2.LINE_AA)\n",
    "cv2.imshow('img',img)\n",
    "\n",
    "cv2.waitKey(0)\n",
    "cv2.imwrite('test'+str(test_no)+'.jpg',img)\n",
    "test_no+=1"
   ]
  },
  {
   "cell_type": "code",
   "execution_count": 12,
   "id": "bb80a458",
   "metadata": {},
   "outputs": [],
   "source": [
    "n=25\n",
    "\n",
    "imgs, lables = next(test_batches)\n",
    "imgs, lables = next(test_batches) \n",
    "\n",
    "class_index = np.argmax(predictions[n])\n",
    "class_predicted = class_names[class_index] \n",
    "\n",
    "img = imgs[n%10] #batch konsa\n",
    "\n",
    "img = cv2.cvtColor(img, cv2.COLOR_RGB2BGR)\n",
    "img = cv2.resize(img,(450,400))\n",
    "img = cv2.putText(img,class_predicted,(5,55),cv2.FONT_HERSHEY_SIMPLEX,1,(255,255,255),2,cv2.LINE_AA)\n",
    "\n",
    "cv2.imshow('img',img)\n",
    "cv2.waitKey(0)\n",
    "cv2.imwrite('test'+str(test_no)+'.jpg',img)\n",
    "test_no+=1"
   ]
  },
  {
   "cell_type": "code",
   "execution_count": 13,
   "id": "819cb83e",
   "metadata": {},
   "outputs": [],
   "source": [
    "n=35\n",
    "imgs, lables = next(test_batches) \n",
    "\n",
    "class_index = np.argmax(predictions[n]) \n",
    "class_predicted = class_names[class_index] \n",
    "\n",
    "img = imgs[n%10]\n",
    "img = cv2.cvtColor(img, cv2.COLOR_RGB2BGR)\n",
    "img = cv2.resize(img,(450,400))\n",
    "img = cv2.putText(img,class_predicted,(5,55),cv2.FONT_HERSHEY_SIMPLEX,1,(255,255,255),2,cv2.LINE_AA)\n",
    "cv2.imshow('img',img)\n",
    "cv2.waitKey(0)\n",
    "cv2.imwrite('test'+str(test_no)+'.jpg',img)\n",
    "test_no+=1"
   ]
  },
  {
   "cell_type": "code",
   "execution_count": 23,
   "id": "55dc528b",
   "metadata": {},
   "outputs": [],
   "source": [
    "n=43\n",
    "imgs, lables = next(test_batches)\n",
    "\n",
    "class_index = np.argmax(predictions[n]) \n",
    "class_predicted = class_names[class_index] \n",
    "\n",
    "img = imgs[n%10] \n",
    "img = cv2.cvtColor(img, cv2.COLOR_RGB2BGR)\n",
    "img = cv2.resize(img,(450,400))\n",
    "img = cv2.putText(img,class_predicted,(5,55),cv2.FONT_HERSHEY_SIMPLEX,1,(255,255,255),2,cv2.LINE_AA)\n",
    "cv2.imshow('img',img)\n",
    "cv2.waitKey(0)\n",
    "cv2.imwrite('test'+str(test_no)+'.jpg',img)\n",
    "test_no+=1"
   ]
  },
  {
   "cell_type": "code",
   "execution_count": 25,
   "id": "a981ccd4",
   "metadata": {},
   "outputs": [],
   "source": [
    "n=57\n",
    "imgs, lables = next(test_batches) \n",
    "\n",
    "class_index = np.argmax(predictions[n])\n",
    "class_predicted = class_names[class_index] \n",
    "\n",
    "img = imgs[n%10]\n",
    "img = cv2.cvtColor(img, cv2.COLOR_RGB2BGR)\n",
    "img = cv2.resize(img,(450,400))\n",
    "img = cv2.putText(img,class_predicted,(5,55),cv2.FONT_HERSHEY_SIMPLEX,1,(255,255,255),2,cv2.LINE_AA)\n",
    "cv2.imshow('img',img)\n",
    "cv2.waitKey(0)\n",
    "cv2.imwrite('test'+str(test_no)+'.jpg',img)\n",
    "test_no+=1"
   ]
  },
  {
   "cell_type": "code",
   "execution_count": 26,
   "id": "5d2a47aa",
   "metadata": {},
   "outputs": [],
   "source": [
    "n=66\n",
    "imgs, lables = next(test_batches) \n",
    "\n",
    "class_index = np.argmax(predictions[n])\n",
    "class_predicted = class_names[class_index] \n",
    "\n",
    "img = imgs[n%10] \n",
    "img = cv2.cvtColor(img, cv2.COLOR_RGB2BGR)\n",
    "img = cv2.resize(img,(450,400))\n",
    "img = cv2.putText(img,class_predicted,(5,55),cv2.FONT_HERSHEY_SIMPLEX,1,(255,255,255),2,cv2.LINE_AA)\n",
    "cv2.imshow('img',img)\n",
    "cv2.waitKey(0)\n",
    "cv2.imwrite('test'+str(test_no)+'.jpg',img)\n",
    "test_no+=1"
   ]
  },
  {
   "cell_type": "code",
   "execution_count": 27,
   "id": "fc4d09b8",
   "metadata": {},
   "outputs": [],
   "source": [
    "n=61\n",
    "class_index = np.argmax(predictions[n])\n",
    "class_predicted = class_names[class_index] \n",
    "\n",
    "img = imgs[n%10]\n",
    "img = cv2.cvtColor(img, cv2.COLOR_RGB2BGR)\n",
    "img = cv2.resize(img,(450,400))\n",
    "img = cv2.putText(img,class_predicted,(5,55),cv2.FONT_HERSHEY_SIMPLEX,1,(255,255,255),2,cv2.LINE_AA)\n",
    "cv2.imshow('img',img)\n",
    "cv2.waitKey(0)\n",
    "cv2.imwrite('test'+str(test_no)+'.jpg',img)\n",
    "test_no+=1"
   ]
  },
  {
   "cell_type": "code",
   "execution_count": 28,
   "id": "3a2b5fd0",
   "metadata": {},
   "outputs": [],
   "source": [
    "n=74\n",
    "imgs, lables = next(test_batches) \n",
    "\n",
    "class_index = np.argmax(predictions[n]) \n",
    "class_predicted = class_names[class_index] \n",
    "\n",
    "img = imgs[n%10] \n",
    "img = cv2.cvtColor(img, cv2.COLOR_RGB2BGR)\n",
    "img = cv2.resize(img,(450,400))\n",
    "img = cv2.putText(img,class_predicted,(5,55),cv2.FONT_HERSHEY_SIMPLEX,1,(255,255,255),2,cv2.LINE_AA)\n",
    "cv2.imshow('img',img)\n",
    "cv2.waitKey(0)\n",
    "cv2.imwrite('test'+str(test_no)+'.jpg',img)\n",
    "test_no+=1"
   ]
  },
  {
   "cell_type": "code",
   "execution_count": 29,
   "id": "8467232f",
   "metadata": {},
   "outputs": [],
   "source": [
    "n=77\n",
    "class_index = np.argmax(predictions[77])\n",
    "class_predicted = class_names[class_index] \n",
    "\n",
    "img = imgs[7]\n",
    "img = cv2.cvtColor(img, cv2.COLOR_RGB2BGR)\n",
    "img = cv2.resize(img,(450,400))\n",
    "img = cv2.putText(img,class_predicted,(5,55),cv2.FONT_HERSHEY_SIMPLEX,1,(255,255,255),2,cv2.LINE_AA)\n",
    "cv2.imshow('img',img)\n",
    "cv2.waitKey(0)\n",
    "cv2.imwrite('test'+str(test_no)+'.jpg',img)\n",
    "test_no+=1"
   ]
  },
  {
   "cell_type": "code",
   "execution_count": 30,
   "id": "6c93cbd4",
   "metadata": {},
   "outputs": [],
   "source": [
    "n=79\n",
    "class_index = np.argmax(predictions[n]) \n",
    "class_predicted = class_names[class_index] \n",
    "\n",
    "img = imgs[n%10]\n",
    "img = cv2.cvtColor(img, cv2.COLOR_RGB2BGR)\n",
    "img = cv2.resize(img,(450,400))\n",
    "img = cv2.putText(img,class_predicted,(5,55),cv2.FONT_HERSHEY_SIMPLEX,1,(255,255,255),2,cv2.LINE_AA)\n",
    "cv2.imshow('img',img)\n",
    "cv2.waitKey(0)\n",
    "cv2.imwrite('test'+str(test_no)+'.jpg',img)\n",
    "test_no+=1"
   ]
  },
  {
   "cell_type": "code",
   "execution_count": 31,
   "id": "9d7a1c22",
   "metadata": {},
   "outputs": [],
   "source": [
    "n=85\n",
    "imgs, lables = next(test_batches)\n",
    "\n",
    "class_index = np.argmax(predictions[n])\n",
    "class_predicted = class_names[class_index] \n",
    "\n",
    "img = imgs[n%10]\n",
    "img = cv2.cvtColor(img, cv2.COLOR_RGB2BGR)\n",
    "img = cv2.resize(img,(450,400))\n",
    "img = cv2.putText(img,class_predicted,(5,55),cv2.FONT_HERSHEY_SIMPLEX,1,(255,255,255),2,cv2.LINE_AA)\n",
    "cv2.imshow('img',img)\n",
    "cv2.waitKey(0)\n",
    "cv2.imwrite('test'+str(test_no)+'.jpg',img)\n",
    "test_no+=1"
   ]
  },
  {
   "cell_type": "code",
   "execution_count": 32,
   "id": "3fa5788a",
   "metadata": {},
   "outputs": [],
   "source": [
    "n=99\n",
    "imgs, lables = next(test_batches) \n",
    "\n",
    "class_index = np.argmax(predictions[n]) \n",
    "class_predicted = class_names[class_index] \n",
    "\n",
    "img = imgs[n%10] \n",
    "img = cv2.cvtColor(img, cv2.COLOR_RGB2BGR)\n",
    "img = cv2.resize(img,(450,400))\n",
    "img = cv2.putText(img,class_predicted,(5,55),cv2.FONT_HERSHEY_SIMPLEX,1,(255,255,255),2,cv2.LINE_AA)\n",
    "cv2.imshow('img',img)\n",
    "cv2.waitKey(0)\n",
    "cv2.imwrite('test'+str(test_no)+'.jpg',img)\n",
    "test_no+=1"
   ]
  },
  {
   "cell_type": "code",
   "execution_count": 33,
   "id": "f6421add",
   "metadata": {},
   "outputs": [],
   "source": [
    "n=105\n",
    "imgs, lables = next(test_batches) \n",
    "\n",
    "class_index = np.argmax(predictions[n])\n",
    "class_predicted = class_names[class_index] \n",
    "\n",
    "img = imgs[n%10]\n",
    "img = cv2.cvtColor(img, cv2.COLOR_RGB2BGR)\n",
    "img = cv2.resize(img,(450,400))\n",
    "img = cv2.putText(img,class_predicted,(5,55),cv2.FONT_HERSHEY_SIMPLEX,1,(255,255,255),2,cv2.LINE_AA)\n",
    "cv2.imshow('img',img)\n",
    "cv2.waitKey(0)\n",
    "cv2.imwrite('test'+str(test_no)+'.jpg',img)\n",
    "test_no+=1"
   ]
  },
  {
   "cell_type": "code",
   "execution_count": null,
   "id": "fffa39e4",
   "metadata": {},
   "outputs": [
    {
     "name": "stdout",
     "output_type": "stream",
     "text": [
      "Found 500 images belonging to 100 classes.\n"
     ]
    }
   ],
   "source": [
    "test_batches = ImageDataGenerator(preprocessing_function=tf.keras.applications.mobilenet.preprocess_input).flow_from_directory(\n",
    "    directory=test_path, target_size=(224,224),classes=class_names,batch_size=10, shuffle=False)\n",
    "n=404\n",
    "rng=(n//10)+1\n",
    "for i in range(rng):\n",
    "    imgs, lables = next(test_batches) \n",
    "class_index = np.argmax(predictions[n])\n",
    "class_predicted = class_names[class_index] \n",
    "\n",
    "img = imgs[n%10]\n",
    "img = cv2.cvtColor(img, cv2.COLOR_RGB2BGR)\n",
    "img = cv2.resize(img,(450,400))\n",
    "img = cv2.putText(img,class_predicted,(5,55),cv2.FONT_HERSHEY_SIMPLEX,1,(255,255,255),2,cv2.LINE_AA)\n",
    "cv2.imshow('img',img)\n",
    "cv2.waitKey(0)\n"
   ]
  },
  {
   "cell_type": "code",
   "execution_count": null,
   "id": "12e2c425",
   "metadata": {},
   "outputs": [],
   "source": [
    "#confusion matrix\n",
    "#graphs\n",
    "#intent\n"
   ]
  }
 ],
 "metadata": {
  "kernelspec": {
   "display_name": "Python 3 (ipykernel)",
   "language": "python",
   "name": "python3"
  },
  "language_info": {
   "codemirror_mode": {
    "name": "ipython",
    "version": 3
   },
   "file_extension": ".py",
   "mimetype": "text/x-python",
   "name": "python",
   "nbconvert_exporter": "python",
   "pygments_lexer": "ipython3",
   "version": "3.9.7"
  }
 },
 "nbformat": 4,
 "nbformat_minor": 5
}
